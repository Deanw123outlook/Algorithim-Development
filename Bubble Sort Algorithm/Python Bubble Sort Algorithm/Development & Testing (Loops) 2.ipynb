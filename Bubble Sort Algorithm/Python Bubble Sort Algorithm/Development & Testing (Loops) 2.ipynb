{
 "cells": [
  {
   "cell_type": "markdown",
   "metadata": {},
   "source": [
    "### Development & Testing (Loops) Part 2"
   ]
  },
  {
   "cell_type": "markdown",
   "metadata": {},
   "source": [
    "##### Objective\n",
    "Grasp a better understanding of loops & the range function working together !\n",
    "\n",
    "##### Python Slicing\n",
    "\n",
    "When you want to extract part of a string, or some part of a list, you use a slice !\n",
    "- The first character in string x would be x[0] and the nth character would be at\n",
    "x[n-1]. \n",
    "- Python also indexes the arrays backwards, using negative numbers. \n",
    "- The last character has index -1, the second to last character has inde\n",
    "\n",
    "EXAMPLE\n",
    "DATA TYPE : STRING\n",
    "\n",
    "x = \"my string\"\n",
    "\n",
    "x[start:end] \t#       items start through end-1\n",
    "\n",
    "x[start:]    \t#       items start through the rest of the list\n",
    "\n",
    "x[:end]      \t#       items from the beginning through end-1\n",
    "\n",
    "x[:]         \t#       a copy of the whole list"
   ]
  },
  {
   "cell_type": "markdown",
   "metadata": {},
   "source": [
    "###### Data"
   ]
  },
  {
   "cell_type": "code",
   "execution_count": 27,
   "metadata": {},
   "outputs": [
    {
     "name": "stdout",
     "output_type": "stream",
     "text": [
      "[1, 3, 5, 8, 10, 12] 6 <class 'list'>\n",
      "[2, 4, 6, 7, 10, 12] 6 <class 'list'>\n"
     ]
    }
   ],
   "source": [
    "#Data x1\n",
    "list_A = [1,3,5,8,10,12] # initiate list A for comparisons\n",
    "list_B = [2,4,6,7,10,12] # initiate list B for comparisons\n",
    "\n",
    "#Testing Sample(lists) analysis\n",
    "print(list_A,len(list_A),type(list_A)) # print : list, length of list, list data type\n",
    "print(list_B,len(list_B),type(list_B)) # print : list, ....."
   ]
  },
  {
   "cell_type": "markdown",
   "metadata": {},
   "source": [
    "###### Slicing"
   ]
  },
  {
   "cell_type": "markdown",
   "metadata": {},
   "source": [
    "Below we can see how Python slicing can be used (note the syntax & compare to example string above concepts. Anticipating the range function to be key component in the Bubble Sort Algorithm development !"
   ]
  },
  {
   "cell_type": "code",
   "execution_count": 37,
   "metadata": {},
   "outputs": [
    {
     "name": "stdout",
     "output_type": "stream",
     "text": [
      "[3, 5, 8, 10, 12]\n",
      "[4, 6, 7, 10, 12]\n",
      "[1, 3, 5, 8]\n"
     ]
    }
   ],
   "source": [
    "print(list_A[1:len(list_B)]) # print list using slicing enabling specific sequencing\n",
    "print(list_B[1:len(list_B)]) # print list using slicing ....\n",
    "print(list_A[0:4])"
   ]
  },
  {
   "cell_type": "markdown",
   "metadata": {},
   "source": [
    "###### Range Function & Loops"
   ]
  },
  {
   "cell_type": "code",
   "execution_count": 10,
   "metadata": {},
   "outputs": [
    {
     "name": "stdout",
     "output_type": "stream",
     "text": [
      "Range-Function-1-Analysis\n",
      "Ram\n",
      "Shyam\n",
      "Gavin\n",
      "Bilal\n",
      "Dean\n",
      "Feroz\n",
      "myList-Length 6\n",
      "\n",
      "Range-Function-2-Analysis\n",
      "Shyam\n",
      "Gavin\n"
     ]
    }
   ],
   "source": [
    "myList = ['Ram', 'Shyam', 'Gavin', 'Bilal', 'Dean', 'Feroz'];\n",
    "#for loop & range function testing\n",
    "print(\"Range-Function-1-Analysis\")\n",
    "for x in range(0,len(myList),1): # range(start,stop,step)\n",
    "    print(myList[x])\n",
    "print(\"myList-Length\",len(myList))\n",
    "\n",
    "print(\"\") # output space for readability\n",
    "\n",
    "print(\"Range-Function-2-Analysis\")\n",
    "for i in range(1,3,1): \n",
    "    print(myList[i])"
   ]
  },
  {
   "cell_type": "code",
   "execution_count": 40,
   "metadata": {},
   "outputs": [
    {
     "name": "stdout",
     "output_type": "stream",
     "text": [
      "Loop-1\n",
      "2\n",
      "Loop-2\n",
      "4\n",
      "Condition-NOT-Passed\n",
      "2\n",
      "\n",
      "Loop-1\n",
      "4\n",
      "Loop-2\n",
      "4\n",
      "Condition-NOT-Passed\n",
      "4\n",
      "\n",
      "Loop-1\n",
      "6\n",
      "Loop-2\n",
      "4\n",
      "Condition-Passed\n",
      "6\n",
      "\n",
      "Loop-1\n",
      "8\n",
      "Loop-2\n",
      "4\n",
      "Condition-Passed\n",
      "8\n",
      "\n",
      "Loop-1\n",
      "10\n",
      "Loop-2\n",
      "4\n",
      "Condition-Passed\n",
      "10\n",
      "\n",
      "Loop-1\n",
      "12\n",
      "Loop-2\n",
      "4\n",
      "Condition-Passed\n",
      "12\n",
      "\n"
     ]
    }
   ],
   "source": [
    "L = [2,4,6,8,10,12]\n",
    "for x in L:\n",
    "    print(\"Loop-1\")\n",
    "    print(x)\n",
    "    for i in range(1,2,1):\n",
    "        print(\"Loop-2\")\n",
    "        print(L[i])\n",
    "        if x > L[i]:\n",
    "            print(\"Condition-Passed\")\n",
    "            print(x)\n",
    "            print(\"\")\n",
    "        else:\n",
    "            print(\"Condition-NOT-Passed\")\n",
    "            print(x)\n",
    "            print(\"\")"
   ]
  },
  {
   "cell_type": "markdown",
   "metadata": {},
   "source": [
    "As we can see from the above code we are getting close to cracking the Bubble Sort Algorithm using Python Programing Language."
   ]
  },
  {
   "cell_type": "code",
   "execution_count": null,
   "metadata": {},
   "outputs": [],
   "source": []
  }
 ],
 "metadata": {
  "kernelspec": {
   "display_name": "Python 3",
   "language": "python",
   "name": "python3"
  },
  "language_info": {
   "codemirror_mode": {
    "name": "ipython",
    "version": 3
   },
   "file_extension": ".py",
   "mimetype": "text/x-python",
   "name": "python",
   "nbconvert_exporter": "python",
   "pygments_lexer": "ipython3",
   "version": "3.8.3"
  }
 },
 "nbformat": 4,
 "nbformat_minor": 4
}
