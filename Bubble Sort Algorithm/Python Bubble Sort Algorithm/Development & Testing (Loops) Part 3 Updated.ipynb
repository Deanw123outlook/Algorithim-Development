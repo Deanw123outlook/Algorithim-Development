{
 "cells": [
  {
   "cell_type": "markdown",
   "metadata": {},
   "source": [
    "### Development & Testing (Loops) Part 3 Updated\n",
    "Information\n",
    "\n",
    "Updated Version invloves error handling using the try and except keywords. Little progress has been made from previous [Development & Testing (Loops) Part3] , however the inclusion of error handling into our code has brought us one step closer to cracking the Bubble Sort Algorithm code in python!\n",
    "\n",
    "As we can see from the below code we have made good progressive in solving & coding the Bubble Sort Algorithm. Below I have mentioned some universally important constructs in computer coding, particularly the counter feature which will play an important role in building this algorithm & many others !"
   ]
  },
  {
   "cell_type": "markdown",
   "metadata": {},
   "source": [
    "###### Counter Feature\n",
    "In digital logic and computing, a Counter is a device which stores (and sometimes displays) the number of times a particular event or process has occurred, often in relationship to a clock signal. \n",
    "\n",
    "Counters are used in digital electronics for counting purpose, they can count specific event happening in the circuit. \n",
    "\n",
    "For example, in UP counter a counter increases count for every rising edge of clock. Not only counting, a counter can follow the certain sequence based on our design like any random sequence 0,1,3,2… .They can also  be designed with the help of flip flops.\n",
    "\n",
    "This will prove an important feature in delveloping the Bubble Sort Algorithm.\n",
    "\n",
    "NOTE\n",
    "\n",
    "Addition assignment (+=)\n",
    "\n",
    "The addition assignment operator (+=) adds the value of the right operand to a variable and assigns the result to the variable. The types of the two operands determine the behavior of the addition assignment operator. Addition or concatenation is possible."
   ]
  },
  {
   "cell_type": "markdown",
   "metadata": {},
   "source": [
    "###### Data x1"
   ]
  },
  {
   "cell_type": "code",
   "execution_count": 1,
   "metadata": {},
   "outputs": [
    {
     "name": "stdout",
     "output_type": "stream",
     "text": [
      "Original List 1 : [10, 20, 30, 40, 50, 60, 70, 80, 90]\n",
      "Original List 2 : [23, 12, 89, 34, 56, 78, 90, 61, 87]\n"
     ]
    }
   ],
   "source": [
    "List_1 = [10,20,30,40,50,60,70,80,90] \n",
    "print(\"Original List 1 :\", List_1)\n",
    "List_2 = [23,12,89,34,56,78,90,61,87]\n",
    "print(\"Original List 2 :\", List_2)"
   ]
  },
  {
   "cell_type": "markdown",
   "metadata": {},
   "source": [
    "The function below will swap two elements in a list"
   ]
  },
  {
   "cell_type": "code",
   "execution_count": 2,
   "metadata": {},
   "outputs": [],
   "source": [
    "#Create function that will swap two elements in a list!\n",
    "def swap(L,p1,p2): \n",
    "    \"\"\"Function parameters L = list,\n",
    "    p1 = position one, p2 = position two.\n",
    "    It is important that the user remembers zero indexing as the function\n",
    "    operates using indexing & completing the swap based on this\"\"\"\n",
    "    L[p1],L[p2] = L[p2],L[p1]\n",
    "    print(L)"
   ]
  },
  {
   "cell_type": "code",
   "execution_count": 3,
   "metadata": {},
   "outputs": [
    {
     "name": "stdout",
     "output_type": "stream",
     "text": [
      "[10, 30, 20, 40, 50, 60, 70, 80, 90]\n",
      "[23, 12, 89, 78, 56, 34, 90, 61, 87]\n"
     ]
    }
   ],
   "source": [
    "#Call the function for testing & analysis\n",
    "swap(List_1,1,2) \n",
    "swap(List_2,3,5)"
   ]
  },
  {
   "cell_type": "code",
   "execution_count": 4,
   "metadata": {},
   "outputs": [
    {
     "name": "stdout",
     "output_type": "stream",
     "text": [
      "Original Postion Indexer 0\n",
      "Original Postion Indexer 1\n",
      "\n",
      "Updated Postion Index 1: 1\n",
      "Updated Position Index 2: 2\n",
      "Loop-Range-Experimentation\n",
      "30\n",
      "\n",
      "Updated Postion Index 1: 2\n",
      "Updated Position Index 2: 3\n",
      "Loop-Range-Experimentation\n",
      "20\n",
      "\n",
      "Updated Postion Index 1: 3\n",
      "Updated Position Index 2: 4\n",
      "Loop-Range-Experimentation\n",
      "40\n",
      "\n",
      "Updated Postion Index 1: 4\n",
      "Updated Position Index 2: 5\n",
      "Loop-Range-Experimentation\n",
      "50\n",
      "\n",
      "Updated Postion Index 1: 5\n",
      "Updated Position Index 2: 6\n",
      "Loop-Range-Experimentation\n",
      "60\n",
      "\n",
      "Updated Postion Index 1: 6\n",
      "Updated Position Index 2: 7\n",
      "Loop-Range-Experimentation\n",
      "70\n",
      "\n",
      "Updated Postion Index 1: 7\n",
      "Updated Position Index 2: 8\n",
      "Loop-Range-Experimentation\n",
      "80\n",
      "\n",
      "Updated Postion Index 1: 8\n",
      "Updated Position Index 2: 9\n",
      "Loop-Range-Experimentation\n",
      "90\n",
      "\n",
      "Updated Postion Index 1: 9\n",
      "Updated Position Index 2: 10\n"
     ]
    }
   ],
   "source": [
    "p1 = 0 # initiate counter \n",
    "p2 = 1 # initiate counter\n",
    "print(\"Original Postion Indexer\",p1)\n",
    "print(\"Original Postion Indexer\",p2)\n",
    "print(\"\")\n",
    "#for loop program !\n",
    "for x in List_1:\n",
    "    p1 += 1 # addition assignment operator\n",
    "    p2 +=1 # addition assignment operator\n",
    "    print(\"Updated Postion Index 1:\",p1)\n",
    "    print(\"Updated Position Index 2:\",p2)\n",
    "    for i in range(p1,p2,1): # range(start,stop,step)\n",
    "        if p2 <= len(List_1):\n",
    "            print(\"Loop-Range-Experimentation\")\n",
    "            print(List_1[i])\n",
    "            print(\"\")"
   ]
  },
  {
   "cell_type": "markdown",
   "metadata": {},
   "source": [
    "##### Data x2"
   ]
  },
  {
   "cell_type": "code",
   "execution_count": 5,
   "metadata": {},
   "outputs": [
    {
     "name": "stdout",
     "output_type": "stream",
     "text": [
      "Original List [23, 45, 12, 34, 61, 72, 6]\n"
     ]
    }
   ],
   "source": [
    "List_C = [23,45,12,34,61,72,6]\n",
    "print(\"Original List\", List_C)"
   ]
  },
  {
   "cell_type": "code",
   "execution_count": 6,
   "metadata": {},
   "outputs": [
    {
     "name": "stdout",
     "output_type": "stream",
     "text": [
      "Original Postion Indexer 0\n",
      "Original Postion Indexer 1\n",
      "\n",
      "Updated Postion Index 1: 1\n",
      "Updated Position Index 2: 2\n",
      "Loop-Range-Experimentation\n",
      "45\n",
      "12\n",
      "[23, 12, 45, 34, 61, 72, 6]\n",
      "\n",
      "Updated Postion Index 1: 2\n",
      "Updated Position Index 2: 3\n",
      "Loop-Range-Experimentation\n",
      "45\n",
      "34\n",
      "[23, 12, 34, 45, 61, 72, 6]\n",
      "\n",
      "Updated Postion Index 1: 3\n",
      "Updated Position Index 2: 4\n",
      "Loop-Range-Experimentation\n",
      "45\n",
      "61\n",
      "[23, 12, 34, 45, 61, 72, 6]\n",
      "\n",
      "Updated Postion Index 1: 4\n",
      "Updated Position Index 2: 5\n",
      "Loop-Range-Experimentation\n",
      "61\n",
      "72\n",
      "[23, 12, 34, 45, 61, 72, 6]\n",
      "\n",
      "Updated Postion Index 1: 5\n",
      "Updated Position Index 2: 6\n",
      "Loop-Range-Experimentation\n",
      "72\n",
      "6\n",
      "[23, 12, 34, 45, 61, 6, 72]\n",
      "\n",
      "Updated Postion Index 1: 6\n",
      "Updated Position Index 2: 7\n",
      "Loop-Range-Experimentation\n",
      "72\n"
     ]
    },
    {
     "ename": "IndexError",
     "evalue": "list index out of range",
     "output_type": "error",
     "traceback": [
      "\u001b[1;31m---------------------------------------------------------------------------\u001b[0m",
      "\u001b[1;31mIndexError\u001b[0m                                Traceback (most recent call last)",
      "\u001b[1;32m<ipython-input-6-699cd02c567a>\u001b[0m in \u001b[0;36m<module>\u001b[1;34m\u001b[0m\n\u001b[0;32m     14\u001b[0m             \u001b[0mprint\u001b[0m\u001b[1;33m(\u001b[0m\u001b[1;34m\"Loop-Range-Experimentation\"\u001b[0m\u001b[1;33m)\u001b[0m\u001b[1;33m\u001b[0m\u001b[1;33m\u001b[0m\u001b[0m\n\u001b[0;32m     15\u001b[0m             \u001b[0mprint\u001b[0m\u001b[1;33m(\u001b[0m\u001b[0mList_C\u001b[0m\u001b[1;33m[\u001b[0m\u001b[0mp1\u001b[0m\u001b[1;33m]\u001b[0m\u001b[1;33m)\u001b[0m\u001b[1;33m\u001b[0m\u001b[1;33m\u001b[0m\u001b[0m\n\u001b[1;32m---> 16\u001b[1;33m             \u001b[0mprint\u001b[0m\u001b[1;33m(\u001b[0m\u001b[0mList_C\u001b[0m\u001b[1;33m[\u001b[0m\u001b[0mp2\u001b[0m\u001b[1;33m]\u001b[0m\u001b[1;33m)\u001b[0m\u001b[1;33m\u001b[0m\u001b[1;33m\u001b[0m\u001b[0m\n\u001b[0m\u001b[0;32m     17\u001b[0m             \u001b[1;32mif\u001b[0m \u001b[0mList_C\u001b[0m\u001b[1;33m[\u001b[0m\u001b[0mp1\u001b[0m\u001b[1;33m]\u001b[0m \u001b[1;33m>\u001b[0m \u001b[0mList_C\u001b[0m\u001b[1;33m[\u001b[0m\u001b[0mp2\u001b[0m\u001b[1;33m]\u001b[0m\u001b[1;33m:\u001b[0m\u001b[1;33m\u001b[0m\u001b[1;33m\u001b[0m\u001b[0m\n\u001b[0;32m     18\u001b[0m                 \u001b[0mList_C\u001b[0m\u001b[1;33m[\u001b[0m\u001b[0mp1\u001b[0m\u001b[1;33m]\u001b[0m\u001b[1;33m,\u001b[0m\u001b[0mList_C\u001b[0m\u001b[1;33m[\u001b[0m\u001b[0mp2\u001b[0m\u001b[1;33m]\u001b[0m \u001b[1;33m=\u001b[0m \u001b[0mList_C\u001b[0m\u001b[1;33m[\u001b[0m\u001b[0mp2\u001b[0m\u001b[1;33m]\u001b[0m\u001b[1;33m,\u001b[0m\u001b[0mList_C\u001b[0m\u001b[1;33m[\u001b[0m\u001b[0mp1\u001b[0m\u001b[1;33m]\u001b[0m\u001b[1;33m\u001b[0m\u001b[1;33m\u001b[0m\u001b[0m\n",
      "\u001b[1;31mIndexError\u001b[0m: list index out of range"
     ]
    }
   ],
   "source": [
    "p1 = 0 # initiate counter \n",
    "p2 = 1 # initiate counter\n",
    "print(\"Original Postion Indexer\",p1)\n",
    "print(\"Original Postion Indexer\",p2)\n",
    "print(\"\")\n",
    "#for loop program !\n",
    "for x in List_C:\n",
    "    p1 += 1 # addition assignment operator\n",
    "    p2 +=1 # addition assignment operator\n",
    "    print(\"Updated Postion Index 1:\",p1)\n",
    "    print(\"Updated Position Index 2:\",p2)\n",
    "    for i in range(p1,p2,1): # range(start,stop,step)\n",
    "        if p2 <= len(List_C):\n",
    "            print(\"Loop-Range-Experimentation\")\n",
    "            print(List_C[p1])\n",
    "            print(List_C[p2])\n",
    "            if List_C[p1] > List_C[p2]:\n",
    "                List_C[p1],List_C[p2] = List_C[p2],List_C[p1]\n",
    "            print(List_C)\n",
    "            print(\"\")"
   ]
  },
  {
   "cell_type": "markdown",
   "metadata": {},
   "source": [
    "In the last piece of code we have ran into an issue that prevents the sequence continuing ie. list index out of range. We need to delveop some sort of while loop as a workaround I am pre-empting. Otherwise as can be seen significant progress has been made in the development of the Bubble Sort Algothim!"
   ]
  },
  {
   "cell_type": "markdown",
   "metadata": {},
   "source": [
    "###### While Loop Counter Variation Experimentation"
   ]
  },
  {
   "cell_type": "markdown",
   "metadata": {},
   "source": [
    "Data x3"
   ]
  },
  {
   "cell_type": "code",
   "execution_count": 18,
   "metadata": {},
   "outputs": [
    {
     "name": "stdout",
     "output_type": "stream",
     "text": [
      "[12, 10, 5, 23, 43, 40, 39, 45, 21, 3, 4]\n"
     ]
    }
   ],
   "source": [
    "List_D = [12,10,5,23,43,40,39,45,21,3,4]\n",
    "print(List_D)"
   ]
  },
  {
   "cell_type": "raw",
   "metadata": {},
   "source": [
    "pos1 = 0 # initiate counter \n",
    "pos2 = 1 # initiate counter\n",
    "print(\"Original Postion Indexer\",p1)\n",
    "print(\"Original Postion Indexer\",p2)\n",
    "print(\"\")\n",
    "#for loop program !\n",
    "for x in List_D:\n",
    "    pos1 += 1 # addition assignment operator\n",
    "    pos2 +=1 # addition assignment operator\n",
    "    print(\"Updated Postion Index 1:\",p1)\n",
    "    print(\"Updated Position Index 2:\",p2)\n",
    "    for i in range(pos1,pos2,1): # range(start,stop,step)\n",
    "        while pos2 < 20:\n",
    "            print(\"Loop-Range-Experimentation\")\n",
    "            print(List_C[pos1])\n",
    "            print(List_C[pos2])\n",
    "            if List_D[pos1] > List_D[pos2]:\n",
    "                List_D[pos1],List_D[pos2] = List_D[pos2],List_D[pos1]\n",
    "            print(List_D)\n",
    "            print(\"\")\n",
    "            break"
   ]
  },
  {
   "cell_type": "markdown",
   "metadata": {},
   "source": [
    "The above code was unsuccesful as the index is still out of range !"
   ]
  },
  {
   "cell_type": "markdown",
   "metadata": {},
   "source": [
    "### Error Handling\n",
    "The try block lets you test a block of code for errors.\n",
    "\n",
    "The except block lets you handle the error.\n",
    "\n",
    "The finally block lets you execute code, regardless of the result of the try- and except blocks.\n",
    "\n",
    "###### Exception Handling\n",
    "When an error occurs, or exception as we call it, Python will normally stop and generate an error message.\n",
    "\n",
    "These exceptions can be handled using the try statement"
   ]
  },
  {
   "cell_type": "code",
   "execution_count": 19,
   "metadata": {},
   "outputs": [
    {
     "name": "stdout",
     "output_type": "stream",
     "text": [
      "Original Postion Indexer 0\n",
      "Original Postion Indexer 1\n",
      "\n",
      "Updated Postion Index 1: 1\n",
      "Updated Position Index 2: 2\n",
      "Loop-Range-Experimentation\n",
      "10\n",
      "5\n",
      "[12, 5, 10, 23, 43, 40, 39, 45, 21, 3, 4]\n",
      "\n",
      "Updated Postion Index 1: 2\n",
      "Updated Position Index 2: 3\n",
      "Loop-Range-Experimentation\n",
      "10\n",
      "23\n",
      "Updated Postion Index 1: 3\n",
      "Updated Position Index 2: 4\n",
      "Loop-Range-Experimentation\n",
      "23\n",
      "43\n",
      "Updated Postion Index 1: 4\n",
      "Updated Position Index 2: 5\n",
      "Loop-Range-Experimentation\n",
      "43\n",
      "40\n",
      "[12, 5, 10, 23, 40, 43, 39, 45, 21, 3, 4]\n",
      "\n",
      "Updated Postion Index 1: 5\n",
      "Updated Position Index 2: 6\n",
      "Loop-Range-Experimentation\n",
      "43\n",
      "39\n",
      "[12, 5, 10, 23, 40, 39, 43, 45, 21, 3, 4]\n",
      "\n",
      "Updated Postion Index 1: 6\n",
      "Updated Position Index 2: 7\n",
      "Loop-Range-Experimentation\n",
      "43\n",
      "45\n",
      "Updated Postion Index 1: 7\n",
      "Updated Position Index 2: 8\n",
      "Loop-Range-Experimentation\n",
      "45\n",
      "21\n",
      "[12, 5, 10, 23, 40, 39, 43, 21, 45, 3, 4]\n",
      "\n",
      "Updated Postion Index 1: 8\n",
      "Updated Position Index 2: 9\n",
      "Loop-Range-Experimentation\n",
      "45\n",
      "3\n",
      "[12, 5, 10, 23, 40, 39, 43, 21, 3, 45, 4]\n",
      "\n",
      "Updated Postion Index 1: 9\n",
      "Updated Position Index 2: 10\n",
      "Loop-Range-Experimentation\n",
      "45\n",
      "4\n",
      "[12, 5, 10, 23, 40, 39, 43, 21, 3, 4, 45]\n",
      "\n",
      "Updated Postion Index 1: 10\n",
      "Updated Position Index 2: 11\n",
      "Loop-Range-Experimentation\n",
      "45\n",
      "--Index-Out-Of-Range--\n",
      "--Error Handling Required--\n",
      "Updated Postion Index 1: 11\n",
      "Updated Position Index 2: 12\n"
     ]
    }
   ],
   "source": [
    "p1 = 0 # initiate counter \n",
    "p2 = 1 # initiate counter\n",
    "print(\"Original Postion Indexer\",p1)\n",
    "print(\"Original Postion Indexer\",p2)\n",
    "print(\"\")\n",
    "#for loop program !\n",
    "for x in List_D:\n",
    "    p1 += 1 # addition assignment operator\n",
    "    p2 +=1 # addition assignment operator\n",
    "    print(\"Updated Postion Index 1:\",p1)\n",
    "    print(\"Updated Position Index 2:\",p2)\n",
    "    for i in range(p1,p2,1): # range(start,stop,step)\n",
    "        if p2 <= len(List_D):\n",
    "            try: # try block lets you test a block of code for errors.\n",
    "                print(\"Loop-Range-Experimentation\")\n",
    "                print(List_D[p1])\n",
    "                print(List_D[p2])\n",
    "                if List_D[p1] > List_D[p2]:\n",
    "                    List_D[p1],List_D[p2] = List_D[p2],List_D[p1]\n",
    "                    print(List_D)\n",
    "                    print(\"\")\n",
    "            except: # except block lets you handle the error\n",
    "                print(\"--Index-Out-Of-Range--\")\n",
    "                print(\"--Error Handling Required--\")"
   ]
  },
  {
   "cell_type": "markdown",
   "metadata": {},
   "source": [
    "###### Next Tasks\n",
    "\n",
    "We have determined two tasks that are required to succesfully code (build) the Bubble Sort Algorithm using Python.\n",
    "\n",
    "- When the error arises ie. index out or range we need to RESET the index so that the loop can continue or REVERSE through each element of the list ... We need the index to reset to zero and loop through the list again !\n",
    "\n",
    "- To do this we will also need some code that initiate s STOPPER when the task has been completed ie. all the elements in the list have been sorted as per Bubble Sort Algorithm !"
   ]
  },
  {
   "cell_type": "code",
   "execution_count": null,
   "metadata": {},
   "outputs": [],
   "source": []
  }
 ],
 "metadata": {
  "kernelspec": {
   "display_name": "Python 3",
   "language": "python",
   "name": "python3"
  },
  "language_info": {
   "codemirror_mode": {
    "name": "ipython",
    "version": 3
   },
   "file_extension": ".py",
   "mimetype": "text/x-python",
   "name": "python",
   "nbconvert_exporter": "python",
   "pygments_lexer": "ipython3",
   "version": "3.8.3"
  }
 },
 "nbformat": 4,
 "nbformat_minor": 4
}
