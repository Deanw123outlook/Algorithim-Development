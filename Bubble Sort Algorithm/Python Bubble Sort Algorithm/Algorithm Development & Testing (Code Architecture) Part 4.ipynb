{
 "cells": [
  {
   "cell_type": "markdown",
   "metadata": {},
   "source": [
    "### Algorithm Development & Testing (Code Architecture) Part 4"
   ]
  },
  {
   "cell_type": "markdown",
   "metadata": {},
   "source": [
    "In this python notebook we will be testing the architetural structure of our code for building the Bubble Sort Algorithm. This will be an important stage of this project as it will have two plausible outcomes.\n",
    "\n",
    "- Outcome One\n",
    "\n",
    "The code we have used ie. if-else statements, loops etc. for building this algorithm will enable us to essentially complete this task !\n",
    "\n",
    "- Outcome Two\n",
    "\n",
    "The code we have used will not enable us to complete this algorithm ie. we will need to rethink the structure (architecture) of our code !\n",
    "\n",
    "NOTE\n",
    "\n",
    "There are two main road blocks preventing us finishing this algorithm succesfully !\n",
    "\n",
    "- Designing our code so that when it reaches the out of range index it resets and loops back to beginning of the list \n",
    "- Designing the code that will stop the algorithm process ie. looping back to start and repsoitoning elements once the algorithm has succesfully finished !"
   ]
  },
  {
   "cell_type": "markdown",
   "metadata": {},
   "source": [
    "### Condition Testing & Analysis"
   ]
  },
  {
   "cell_type": "markdown",
   "metadata": {},
   "source": [
    "Data"
   ]
  },
  {
   "cell_type": "raw",
   "metadata": {},
   "source": [
    "list = [10,20,30,40,50,60,70,80,90,100,110,120,125]\n",
    "p1 = 0\n",
    "p2 = 0\n",
    "p3 = 0"
   ]
  },
  {
   "cell_type": "markdown",
   "metadata": {},
   "source": [
    "Code"
   ]
  },
  {
   "cell_type": "raw",
   "metadata": {},
   "source": [
    "for x in list:\n",
    "    if p2 <= 10:\n",
    "        p2 += 1\n",
    "        print(p2)\n",
    "    else:\n",
    "        #print(p2)\n",
    "        print(\"Invalid\")"
   ]
  },
  {
   "cell_type": "raw",
   "metadata": {},
   "source": [
    "for i in list:\n",
    "    print(i)\n",
    "    p2 += 1\n",
    "    print(p2)"
   ]
  },
  {
   "cell_type": "raw",
   "metadata": {},
   "source": [
    "for z in list:\n",
    "    if p3 < 8:\n",
    "        print(z)\n",
    "        p3 += 1\n",
    "        print(p3)\n",
    "    else:\n",
    "        if p3 >= 8:\n",
    "            print(\"Iteration-Invalid\")"
   ]
  },
  {
   "cell_type": "markdown",
   "metadata": {},
   "source": [
    "Below we will support that iteration that is out of range by reseting our counter variables to zero. Below will be the architecture behind the code ! The next step will be to input the required to complete the function ie. the Bubble Sort Algorithm"
   ]
  },
  {
   "cell_type": "raw",
   "metadata": {},
   "source": [
    "for x in list_D: # start a foor loop\n",
    "    if p2 < len(list_D): # implement an if statement within the for loop\n",
    "        #run the code\n",
    "    else:\n",
    "        if p2 > len(list_D): # implement an else statement that will support the out of range index\n",
    "            # run the code (reset p1/p2 zero)"
   ]
  },
  {
   "cell_type": "markdown",
   "metadata": {},
   "source": [
    "# Algoritm Testing & Analysis"
   ]
  },
  {
   "cell_type": "markdown",
   "metadata": {},
   "source": [
    "Data"
   ]
  },
  {
   "cell_type": "code",
   "execution_count": 49,
   "metadata": {},
   "outputs": [
    {
     "name": "stdout",
     "output_type": "stream",
     "text": [
      "Original List [23, 45, 12, 34, 61, 72, 6, 314, 13, 54, 46]\n"
     ]
    }
   ],
   "source": [
    "List_D = [23,45,12,34,61,72,6,314,13,54,46]\n",
    "#counter variables \n",
    "p1 = -1\n",
    "p2 = 0\n",
    "#save orginial list in variable for comparison analysis post algorithm\n",
    "Original_List = List_D \n",
    "print(\"Original List\", Original_List)"
   ]
  },
  {
   "cell_type": "markdown",
   "metadata": {},
   "source": [
    "Algorithm"
   ]
  },
  {
   "cell_type": "raw",
   "metadata": {},
   "source": [
    "for x in list_D: # start a foor loop\n",
    "    if p2 < len(list_D): # implement an if statement within the for loop\n",
    "        #run the code\n",
    "        p1 += 1 # addition assignment operator\n",
    "        p2 +=1 # addition assignment operator\n",
    "        print(\"Updated Postion Index 1:\",p1)\n",
    "        print(\"Updated Position Index 2:\",p2)\n",
    "        for i in range(p1,p2,1): # range(start,stop,step)\n",
    "            #if p2 <= len(List_C):\n",
    "                print(\"Loop-Range-Experimentation\")\n",
    "                print(List_D[p1])\n",
    "                print(List_D[p2])\n",
    "        if List_D[p1] > List_D[p2]:\n",
    "            List_D[p1],List_D[p2] = List_D[p2],List_D[p1]\n",
    "            print(List_D)\n",
    "            print(\"\")\n",
    "        else:\n",
    "            if p2 > len(list_D): # implement an else statement that will support the out of range index\n",
    "            print(\"STOP BUBBLE SORT ALGORITHM\")\n",
    "            break# run the code (reset p1/p2 zero)"
   ]
  },
  {
   "cell_type": "raw",
   "metadata": {},
   "source": [
    "for x in List_D: # start a foor loop\n",
    "    if p2 < len(List_D): # implement an if statement within the for loop\n",
    "        #run the code\n",
    "        p1 += 1 # addition assignment operator\n",
    "        p2 +=1 # addition assignment operator\n",
    "        print(\"Updated Postion Index 1:\",p1)\n",
    "        print(\"Updated Position Index 2:\",p2)\n",
    "        for i in range(p1,p2,1): # range(start,stop,step)\n",
    "             if p2 <= len(List_D):\n",
    "                    print(\"Loop-Range-Experimentation\")\n",
    "                    print(List_D[i])\n",
    "                    print(\"\")"
   ]
  },
  {
   "cell_type": "raw",
   "metadata": {},
   "source": [
    "for x in List_D: # start a foor loop\n",
    "    if p2 < len(List_D): # implement an if statement within the for loop\n",
    "        #run the code\n",
    "        p1 += 1 # addition assignment operator\n",
    "        p2 +=1 # addition assignment operator\n",
    "        print(\"Updated Postion Index 1:\",p1)\n",
    "        print(\"Updated Position Index 2:\",p2)\n",
    "        for i in range(p1,p2,1): # range(start,stop,step)\n",
    "             if p2 < len(List_D):\n",
    "                    print(\"Loop-Range-Experimentation\")\n",
    "                    print(List_D[i])\n",
    "                    print(\"\")\n",
    "                    if List_D[p1] > List_D[p2]:\n",
    "                        List_D[p1],List_D[p2] = List_D[p2],List_D[p1]\n",
    "                        print(List_D)\n",
    "                        print(\"\")"
   ]
  },
  {
   "cell_type": "markdown",
   "metadata": {},
   "source": [
    "Reseting the index based on the out of range index error message !"
   ]
  },
  {
   "cell_type": "raw",
   "metadata": {},
   "source": [
    "for x in List_D: # start a foor loop\n",
    "    if p2 < len(List_D): # implement an if statement within the for loop\n",
    "        #run the code\n",
    "        p1 += 1 # addition assignment operator\n",
    "        p2 +=1 # addition assignment operator\n",
    "        print(\"Updated Postion Index 1:\",p1)\n",
    "        print(\"Updated Position Index 2:\",p2)\n",
    "        for i in range(p1,p2,1): # range(start,stop,step)\n",
    "             if p2 < 5:\n",
    "                    print(\"Hello World valid!\")\n",
    "        else:\n",
    "            print(\"Hello World Invalid!\")"
   ]
  },
  {
   "cell_type": "raw",
   "metadata": {},
   "source": [
    "for x in List_D: # start a foor loop\n",
    "    if p2 < len(List_D): # implement an if statement within the for loop\n",
    "        #run the code\n",
    "        p1 += 1 # addition assignment operator\n",
    "        p2 +=1 # addition assignment operator\n",
    "        print(\"Updated Postion Index 1:\",p1)\n",
    "        print(\"Updated Position Index 2:\",p2)\n",
    "        for i in range(p1,p2,1): # range(start,stop,step)\n",
    "             if p2 < len(List_D):\n",
    "                    print(\"Loop-Range-Experimentation\")\n",
    "                    print(List_D[i])\n",
    "                    print(\"\")\n",
    "                    if List_D[p1] > List_D[p2]:\n",
    "                        List_D[p1],List_D[p2] = List_D[p2],List_D[p1]\n",
    "                        print(List_D)\n",
    "                        print(\"\")\n",
    "        else:\n",
    "            print(\"Hello World !\")"
   ]
  },
  {
   "cell_type": "markdown",
   "metadata": {},
   "source": [
    "Below we will clean up our code for easier interpretability both for the code and output. This will be helpful for both analysis of the code (algorithm) and its output. This will be helpful in succesfully completing this algorithm using Python."
   ]
  },
  {
   "cell_type": "code",
   "execution_count": 50,
   "metadata": {},
   "outputs": [
    {
     "name": "stdout",
     "output_type": "stream",
     "text": [
      "--------------------------------------------------------------------\n",
      "Algorithm Iteration 1\n",
      "Updated Postion Index 1: 0\n",
      "Updated Position Index 2: 1\n",
      "Loop-Range-Experimentation\n",
      "Updated Index 1 23\n",
      "Updated Index 2 45\n",
      "\n",
      "Condition Not Passed: Element Not Swapped\n",
      "\n",
      "--------------------------------------------------------------------\n",
      "--------------------------------------------------------------------\n",
      "Algorithm Iteration 2\n",
      "Updated Postion Index 1: 1\n",
      "Updated Position Index 2: 2\n",
      "Loop-Range-Experimentation\n",
      "Updated Index 1 45\n",
      "Updated Index 2 12\n",
      "\n",
      "[23, 12, 45, 34, 61, 72, 6, 314, 13, 54, 46]\n",
      "Condition Passed: Element Swapped\n",
      "\n",
      "--------------------------------------------------------------------\n",
      "--------------------------------------------------------------------\n",
      "Algorithm Iteration 3\n",
      "Updated Postion Index 1: 2\n",
      "Updated Position Index 2: 3\n",
      "Loop-Range-Experimentation\n",
      "Updated Index 1 45\n",
      "Updated Index 2 34\n",
      "\n",
      "[23, 12, 34, 45, 61, 72, 6, 314, 13, 54, 46]\n",
      "Condition Passed: Element Swapped\n",
      "\n",
      "--------------------------------------------------------------------\n",
      "--------------------------------------------------------------------\n",
      "Algorithm Iteration 4\n",
      "Updated Postion Index 1: 3\n",
      "Updated Position Index 2: 4\n",
      "Loop-Range-Experimentation\n",
      "Updated Index 1 45\n",
      "Updated Index 2 61\n",
      "\n",
      "Condition Not Passed: Element Not Swapped\n",
      "\n",
      "--------------------------------------------------------------------\n",
      "--------------------------------------------------------------------\n",
      "Algorithm Iteration 5\n",
      "Updated Postion Index 1: 4\n",
      "Updated Position Index 2: 5\n",
      "Loop-Range-Experimentation\n",
      "Updated Index 1 61\n",
      "Updated Index 2 72\n",
      "\n",
      "Condition Not Passed: Element Not Swapped\n",
      "\n",
      "--------------------------------------------------------------------\n",
      "--------------------------------------------------------------------\n",
      "Algorithm Iteration 6\n",
      "Updated Postion Index 1: 5\n",
      "Updated Position Index 2: 6\n",
      "Loop-Range-Experimentation\n",
      "Updated Index 1 72\n",
      "Updated Index 2 6\n",
      "\n",
      "[23, 12, 34, 45, 61, 6, 72, 314, 13, 54, 46]\n",
      "Condition Passed: Element Swapped\n",
      "\n",
      "--------------------------------------------------------------------\n",
      "--------------------------------------------------------------------\n",
      "Algorithm Iteration 7\n",
      "Updated Postion Index 1: 6\n",
      "Updated Position Index 2: 7\n",
      "Loop-Range-Experimentation\n",
      "Updated Index 1 72\n",
      "Updated Index 2 314\n",
      "\n",
      "Condition Not Passed: Element Not Swapped\n",
      "\n",
      "--------------------------------------------------------------------\n",
      "--------------------------------------------------------------------\n",
      "Algorithm Iteration 8\n",
      "Updated Postion Index 1: 7\n",
      "Updated Position Index 2: 8\n",
      "Loop-Range-Experimentation\n",
      "Updated Index 1 314\n",
      "Updated Index 2 13\n",
      "\n",
      "[23, 12, 34, 45, 61, 6, 72, 13, 314, 54, 46]\n",
      "Condition Passed: Element Swapped\n",
      "\n",
      "--------------------------------------------------------------------\n",
      "--------------------------------------------------------------------\n",
      "Algorithm Iteration 9\n",
      "Updated Postion Index 1: 8\n",
      "Updated Position Index 2: 9\n",
      "Loop-Range-Experimentation\n",
      "Updated Index 1 314\n",
      "Updated Index 2 54\n",
      "\n",
      "[23, 12, 34, 45, 61, 6, 72, 13, 54, 314, 46]\n",
      "Condition Passed: Element Swapped\n",
      "\n",
      "--------------------------------------------------------------------\n",
      "--------------------------------------------------------------------\n",
      "Algorithm Iteration 10\n",
      "Updated Postion Index 1: 9\n",
      "Updated Position Index 2: 10\n",
      "Loop-Range-Experimentation\n",
      "Updated Index 1 314\n",
      "Updated Index 2 46\n",
      "\n",
      "[23, 12, 34, 45, 61, 6, 72, 13, 54, 46, 314]\n",
      "Condition Passed: Element Swapped\n",
      "\n",
      "--------------------------------------------------------------------\n",
      "--------------------------------------------------------------------\n",
      "Algorithm Iteration 11\n",
      "Updated Postion Index 1: 10\n",
      "Updated Position Index 2: 11\n",
      "Loop-Range-Experimentation\n",
      "Updated Index 1 314\n"
     ]
    },
    {
     "ename": "IndexError",
     "evalue": "list index out of range",
     "output_type": "error",
     "traceback": [
      "\u001b[1;31m---------------------------------------------------------------------------\u001b[0m",
      "\u001b[1;31mIndexError\u001b[0m                                Traceback (most recent call last)",
      "\u001b[1;32m<ipython-input-50-af972711ac42>\u001b[0m in \u001b[0;36m<module>\u001b[1;34m\u001b[0m\n\u001b[0;32m     12\u001b[0m             \u001b[0mprint\u001b[0m\u001b[1;33m(\u001b[0m\u001b[1;34m\"Loop-Range-Experimentation\"\u001b[0m\u001b[1;33m)\u001b[0m\u001b[1;33m\u001b[0m\u001b[1;33m\u001b[0m\u001b[0m\n\u001b[0;32m     13\u001b[0m             \u001b[0mprint\u001b[0m\u001b[1;33m(\u001b[0m\u001b[1;34m\"Updated Index 1\"\u001b[0m\u001b[1;33m,\u001b[0m \u001b[0mList_D\u001b[0m\u001b[1;33m[\u001b[0m\u001b[0mp1\u001b[0m\u001b[1;33m]\u001b[0m\u001b[1;33m)\u001b[0m\u001b[1;33m\u001b[0m\u001b[1;33m\u001b[0m\u001b[0m\n\u001b[1;32m---> 14\u001b[1;33m             \u001b[0mprint\u001b[0m\u001b[1;33m(\u001b[0m\u001b[1;34m\"Updated Index 2\"\u001b[0m\u001b[1;33m,\u001b[0m \u001b[0mList_D\u001b[0m\u001b[1;33m[\u001b[0m\u001b[0mp2\u001b[0m\u001b[1;33m]\u001b[0m\u001b[1;33m)\u001b[0m\u001b[1;33m\u001b[0m\u001b[1;33m\u001b[0m\u001b[0m\n\u001b[0m\u001b[0;32m     15\u001b[0m             \u001b[0mprint\u001b[0m\u001b[1;33m(\u001b[0m\u001b[1;34m\"\"\u001b[0m\u001b[1;33m)\u001b[0m\u001b[1;33m\u001b[0m\u001b[1;33m\u001b[0m\u001b[0m\n\u001b[0;32m     16\u001b[0m             \u001b[1;32mif\u001b[0m \u001b[0mList_D\u001b[0m\u001b[1;33m[\u001b[0m\u001b[0mp1\u001b[0m\u001b[1;33m]\u001b[0m \u001b[1;33m>\u001b[0m \u001b[0mList_D\u001b[0m\u001b[1;33m[\u001b[0m\u001b[0mp2\u001b[0m\u001b[1;33m]\u001b[0m\u001b[1;33m:\u001b[0m\u001b[1;33m\u001b[0m\u001b[1;33m\u001b[0m\u001b[0m\n",
      "\u001b[1;31mIndexError\u001b[0m: list index out of range"
     ]
    }
   ],
   "source": [
    "#Bubble-Sort-Algorithm\n",
    "for x in List_D: # start a foor loop\n",
    "    if p2 < len(List_D): # implement an if statement within the for loop\n",
    "        print(\"--------------------------------------------------------------------\")\n",
    "        print(\"Algorithm Iteration\", p2 + 1)\n",
    "        #run the code\n",
    "        p1 += 1 # addition assignment operator\n",
    "        p2 +=1 # addition assignment operator\n",
    "        print(\"Updated Postion Index 1:\", p1)\n",
    "        print(\"Updated Position Index 2:\", p2)\n",
    "        for i in range(p1,p2,1): # range(start,stop,step)\n",
    "            print(\"Loop-Range-Experimentation\")\n",
    "            print(\"Updated Index 1\", List_D[p1])\n",
    "            print(\"Updated Index 2\", List_D[p2])\n",
    "            print(\"\")\n",
    "            if List_D[p1] > List_D[p2]:\n",
    "                List_D[p1],List_D[p2] = List_D[p2],List_D[p1]\n",
    "                print(List_D)\n",
    "                print(\"Condition Passed: Element Swapped\")\n",
    "                print(\"\")\n",
    "                print(\"--------------------------------------------------------------------\")\n",
    "            else:\n",
    "                print(\"Condition Not Passed: Element Not Swapped\")\n",
    "                print(\"\")\n",
    "                print(\"--------------------------------------------------------------------\")"
   ]
  },
  {
   "cell_type": "code",
   "execution_count": null,
   "metadata": {},
   "outputs": [],
   "source": [
    "print(\"Orginal List: \", Original_List)\n",
    "print(\"Algorithm bubble sorted List Updated :\", List_D)"
   ]
  },
  {
   "cell_type": "markdown",
   "metadata": {},
   "source": [
    "From the above code calling both the original and updated lists we can see that updated list has not in fact been updated. Pre-empting this has to do with global & local possibly. This is a minor road block so this will be focused on at the end."
   ]
  },
  {
   "cell_type": "markdown",
   "metadata": {},
   "source": [
    "### Conclusion Algorithm Development & Testing (Code Architecture) Part 4\n",
    "Overall the architecture of our code seems good and we should be able to solve this alogrithm using the above code. We are still met by the road-blocks mentioned above (error: index out of range) and the stopper ie. when the algorithm knows it has fully completed the task.\n",
    "\n",
    "Progress has been made regarding sloving the out of range index. We need to reset this index and loop back through the list. Possibility is to manually inject another counter variable into the algorithm however there will be draw backs with this such as this does not account for anonymous list lenghts ie. we want our alogorithm to be able to manage a list of any size without user intereferance. This will mean we manually set the number of iterations. On alrager real world scale this would be computationally inefficient. Essentially this means we will manually set when the algorithm will STOP. \n",
    "\n",
    "Implementing a tester at set iterations will also be a method to test if the algorithim has finished.\n",
    "\n",
    "The focus will be on this in the coming notebooks!"
   ]
  },
  {
   "cell_type": "code",
   "execution_count": null,
   "metadata": {},
   "outputs": [],
   "source": []
  }
 ],
 "metadata": {
  "kernelspec": {
   "display_name": "Python 3",
   "language": "python",
   "name": "python3"
  },
  "language_info": {
   "codemirror_mode": {
    "name": "ipython",
    "version": 3
   },
   "file_extension": ".py",
   "mimetype": "text/x-python",
   "name": "python",
   "nbconvert_exporter": "python",
   "pygments_lexer": "ipython3",
   "version": "3.8.3"
  }
 },
 "nbformat": 4,
 "nbformat_minor": 4
}
