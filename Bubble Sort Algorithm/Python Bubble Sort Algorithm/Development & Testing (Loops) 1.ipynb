{
 "cells": [
  {
   "cell_type": "markdown",
   "metadata": {},
   "source": [
    "### Development & Testing (Loops) 1\n",
    "###### Objective /Goals\n",
    "Grasp an understanding of inherent working of loops to help build the Bubble Sort Algorithm using Python\n",
    "\n",
    "###### IMPORTANT NOTE\n",
    "\n",
    "Python Collections (Arrays)\n",
    "\n",
    "There are four collection data types in the Python programming language:\n",
    "\n",
    "- List is a collection which is ordered and changeable. Allows duplicate members.\n",
    "- Tuple is a collection which is ordered and unchangeable. Allows duplicate members.\n",
    "- Set is a collection which is unordered, unchangeable*, and unindexed. No duplicate members.\n",
    "- Dictionary is a collection which is ordered** and changeable. No duplicate members.\n",
    "\n",
    "https://www.w3schools.com/python/python_lists.asp\n",
    "\n",
    "###### NOTE\n",
    "Please see end of notebook for important concepts & foundations in the building of the Bubble Sort Algorithm using Python"
   ]
  },
  {
   "cell_type": "markdown",
   "metadata": {},
   "source": [
    "##### For Loop Testing & Development x1\n",
    "Data"
   ]
  },
  {
   "cell_type": "code",
   "execution_count": 1,
   "metadata": {},
   "outputs": [
    {
     "name": "stdout",
     "output_type": "stream",
     "text": [
      "[1, 3, 5, 8, 10, 12] 6 <class 'list'>\n",
      "[2, 4, 6, 7, 10, 12] 6 <class 'list'>\n"
     ]
    }
   ],
   "source": [
    "#Data x1\n",
    "list_A = [1,3,5,8,10,12] # initiate list A for comparisons\n",
    "list_B = [2,4,6,7,10,12] # initiate list B for comparisons\n",
    "t1 = [] # initiate empty list named t1 ie. test x1\n",
    "\n",
    "#Testing Sample(lists) analysis\n",
    "print(list_A,len(list_A),type(list_A)) # print : list, lenghtn of list, list data type\n",
    "print(list_B,len(list_B),type(list_B)) # print : list, lenghtn of list, list data type"
   ]
  },
  {
   "cell_type": "markdown",
   "metadata": {},
   "source": [
    "Compare elements from both lists in sequential form & complete a specific action ie. append to list"
   ]
  },
  {
   "cell_type": "code",
   "execution_count": 2,
   "metadata": {},
   "outputs": [
    {
     "name": "stdout",
     "output_type": "stream",
     "text": [
      "[10, 12]\n"
     ]
    }
   ],
   "source": [
    "for x in list_A: # for loop is used for iterating over a sequence (list, a tuple, a dictionary, set or string)\n",
    "    for xi in list_B:\n",
    "        if x == xi: # if statement using logical operator to compare\n",
    "            t1.append(x) # append() method appends an element to the end of the list\n",
    "            break\n",
    "print(t1)"
   ]
  },
  {
   "cell_type": "markdown",
   "metadata": {},
   "source": [
    "##### For Loop  & While Loop Testing/Development x2\n",
    "Data"
   ]
  },
  {
   "cell_type": "code",
   "execution_count": 3,
   "metadata": {},
   "outputs": [
    {
     "name": "stdout",
     "output_type": "stream",
     "text": [
      "[11, 14, 25, 8, 210, 12, 3] 7 <class 'list'>\n",
      "[2, 14, 6, 47, 10, 102, 3] 7 <class 'list'>\n"
     ]
    }
   ],
   "source": [
    "#Data x2\n",
    "list_C = [11,14,25,8,210,12,3] # initiate list A for comparisons\n",
    "list_D = [2,14,6,47,10,102,3] # initiate list B for comparisons\n",
    "t2a = [] # initiate empty list named t1 ie. test x2 (a)\n",
    "t2b = [] #initiate empty list names t2 ie. text x2 (b)\n",
    "\n",
    "#Testing Sample(lists) analysis\n",
    "print(list_C,len(list_C),type(list_C)) # print : list, lenghtn of list, list data type\n",
    "print(list_D,len(list_D),type(list_D)) # print : list, lenghtn of list, list data type"
   ]
  },
  {
   "cell_type": "markdown",
   "metadata": {},
   "source": [
    "For Loop using append method to Add (append) elements to empty list based on specific condition"
   ]
  },
  {
   "cell_type": "code",
   "execution_count": 4,
   "metadata": {},
   "outputs": [
    {
     "name": "stdout",
     "output_type": "stream",
     "text": [
      "[14, 3]\n"
     ]
    }
   ],
   "source": [
    "for y in list_C: # for loop is used for iterating over a sequence (list, a tuple, a dictionary, set or string)\n",
    "    for yi in list_D:\n",
    "        if y == yi: # if statement using logical operator to compare elements\n",
    "            t2a.append(y) # append() method appends an element to the end of the list\n",
    "            break\n",
    "print(t2a)"
   ]
  },
  {
   "cell_type": "markdown",
   "metadata": {},
   "source": [
    "While Loop including counter variable i"
   ]
  },
  {
   "cell_type": "code",
   "execution_count": 5,
   "metadata": {},
   "outputs": [
    {
     "name": "stdout",
     "output_type": "stream",
     "text": [
      "[28, 6]\n"
     ]
    }
   ],
   "source": [
    "i = 0 # while loop requires relevant variables to be ready, defined is an indexing variable, i, which we set to 0\n",
    "for xy in list_C:\n",
    "    for yc in list_D:\n",
    "        while i < 2: # while loop we can execute a set of statements as long as a condition is true\n",
    "            if xy == yc:\n",
    "                t2b.append(xy + yc)\n",
    "            break # break statement stops the loop even if the while condition is true\n",
    "print(t2b)"
   ]
  },
  {
   "cell_type": "markdown",
   "metadata": {},
   "source": [
    "##### For Loop  & While Loop Testing/Development x2\n",
    "Data"
   ]
  },
  {
   "cell_type": "code",
   "execution_count": 3,
   "metadata": {},
   "outputs": [
    {
     "name": "stdout",
     "output_type": "stream",
     "text": [
      "[21, 24, 125, 38, 20, 12, 9] 7 <class 'list'>\n",
      "[2, 14, 6, 47, 10, 102, 3] 7 <class 'list'>\n"
     ]
    }
   ],
   "source": [
    "#Data x2\n",
    "list_E = [21,24,125,38,20,12,9] # initiate list A for comparisons\n",
    "list_F = [2,14,6,47,10,102,3] # initiate list B for comparisons\n",
    "t3a = [] # initiate empty list named t1 ie. test x2 (a)\n",
    "t3b = [] #initiate empty list names t2 ie. text x2 (b)\n",
    "t3c = [] #initiate empty list names t3 ie. text x2 (c)\n",
    "\n",
    "#Testing Sample(lists) analysis\n",
    "print(list_E,len(list_E),type(list_E)) # print : list, lenghtn of list, list data type\n",
    "print(list_F,len(list_F),type(list_F)) # print : list, lenghtn of list, list data type"
   ]
  },
  {
   "cell_type": "markdown",
   "metadata": {},
   "source": [
    "Amending one of the defined lists E/F based on specific logicial condition !"
   ]
  },
  {
   "cell_type": "code",
   "execution_count": 4,
   "metadata": {},
   "outputs": [
    {
     "name": "stdout",
     "output_type": "stream",
     "text": [
      "[21, 24, 125, 38, 20, 12, 9]\n",
      "[21, 24, 125, 38, 20, 12, 9]\n"
     ]
    }
   ],
   "source": [
    "i = -1\n",
    "#Note while loop countr variable -1 to allow for zero indexing\n",
    "for ix in list_E:\n",
    "    while i < len(list_E):\n",
    "        i += 1\n",
    "        t3a.append(ix)\n",
    "        t3b.append(list_E[i]) # Append location [i] to empty list ..... note zero indexing this would NOT work if counter set to 1\n",
    "        break\n",
    "print(t3a)\n",
    "print(t3b)"
   ]
  },
  {
   "cell_type": "code",
   "execution_count": 6,
   "metadata": {},
   "outputs": [
    {
     "name": "stdout",
     "output_type": "stream",
     "text": [
      "Element 21 is greater/equal to 2\n",
      "Element 21 is greater/equal to 14\n",
      "Element 21 is greater/equal to 6\n",
      "Element 21 is NOT greater/equal to 47\n",
      "Element 21 is greater/equal to 10\n",
      "Element 21 is NOT greater/equal to 102\n",
      "Element 21 is greater/equal to 3\n",
      "Element 24 is greater/equal to 2\n",
      "Element 24 is greater/equal to 14\n",
      "Element 24 is greater/equal to 6\n",
      "Element 24 is NOT greater/equal to 47\n",
      "Element 24 is greater/equal to 10\n",
      "Element 24 is NOT greater/equal to 102\n",
      "Element 24 is greater/equal to 3\n",
      "Element 125 is greater/equal to 2\n",
      "Element 125 is greater/equal to 14\n",
      "Element 125 is greater/equal to 6\n",
      "Element 125 is greater/equal to 47\n",
      "Element 125 is greater/equal to 10\n",
      "Element 125 is greater/equal to 102\n",
      "Element 125 is greater/equal to 3\n",
      "Element 38 is greater/equal to 2\n",
      "Element 38 is greater/equal to 14\n",
      "Element 38 is greater/equal to 6\n",
      "Element 38 is NOT greater/equal to 47\n",
      "Element 38 is greater/equal to 10\n",
      "Element 38 is NOT greater/equal to 102\n",
      "Element 38 is greater/equal to 3\n",
      "Element 20 is greater/equal to 2\n",
      "Element 20 is greater/equal to 14\n",
      "Element 20 is greater/equal to 6\n",
      "Element 20 is NOT greater/equal to 47\n",
      "Element 20 is greater/equal to 10\n",
      "Element 20 is NOT greater/equal to 102\n",
      "Element 20 is greater/equal to 3\n",
      "Element 12 is greater/equal to 2\n",
      "Element 12 is NOT greater/equal to 14\n",
      "Element 12 is greater/equal to 6\n",
      "Element 12 is NOT greater/equal to 47\n",
      "Element 12 is greater/equal to 10\n",
      "Element 12 is NOT greater/equal to 102\n",
      "Element 12 is greater/equal to 3\n",
      "Element 9 is greater/equal to 2\n",
      "Element 9 is NOT greater/equal to 14\n",
      "Element 9 is greater/equal to 6\n",
      "Element 9 is NOT greater/equal to 47\n",
      "Element 9 is NOT greater/equal to 10\n",
      "Element 9 is NOT greater/equal to 102\n",
      "Element 9 is greater/equal to 3\n"
     ]
    }
   ],
   "source": [
    "for z in list_E:\n",
    "    for n in list_F:\n",
    "        if z >= n: # logical condition\n",
    "            print(\"Element\",z,\"is greater/equal to\",n)\n",
    "        else: # else keyword catches anything which isn't caught by the preceding conditions !\n",
    "            print(\"Element\",z,\"is NOT greater/equal to\",n)"
   ]
  },
  {
   "cell_type": "markdown",
   "metadata": {},
   "source": [
    "###### Analysis above code output !\n",
    "It is important to understand how the for loop is working and reacting with the other for loop in this case. Using two for loops to compare both the lists above and complete an action based on this, we can clearly see that the first iteration of the first loop is to compare the first element of this parent list with EVERY element in second (child) list in this case. This piece of code enables us to analyse the output. \n",
    "\n",
    "Regarding the development of the Bubble Sort Algorithim we need the loops to firstly work in a different manor. For the mechanics behind the Bubble Sort Algorithm basically we need to compare first list first element with second list second element then move on first list second element second list second element !\n",
    "\n",
    "The above code may be a useful break through for progressiong in the right direction succesfully building the Bubble Sort Algorithm.\n",
    "\n",
    "NEXT STEP\n",
    "Building a breaker into the code above to meet the Bubble Sort Algorithm sequential steps !\n",
    "\n",
    "NOTE\n",
    "\n",
    "For the hierarchy of Pythonists/Algorithmitcssss..... it is understood that the Bubble Sort Algorithm does not use two lists but simply one list and compares an element with the previous element in that list ! HOWEVER the above code is simply the building blocks/foundations steps in the correct direction !\n"
   ]
  },
  {
   "cell_type": "code",
   "execution_count": null,
   "metadata": {},
   "outputs": [],
   "source": []
  }
 ],
 "metadata": {
  "kernelspec": {
   "display_name": "Python 3",
   "language": "python",
   "name": "python3"
  },
  "language_info": {
   "codemirror_mode": {
    "name": "ipython",
    "version": 3
   },
   "file_extension": ".py",
   "mimetype": "text/x-python",
   "name": "python",
   "nbconvert_exporter": "python",
   "pygments_lexer": "ipython3",
   "version": "3.8.3"
  }
 },
 "nbformat": 4,
 "nbformat_minor": 4
}
