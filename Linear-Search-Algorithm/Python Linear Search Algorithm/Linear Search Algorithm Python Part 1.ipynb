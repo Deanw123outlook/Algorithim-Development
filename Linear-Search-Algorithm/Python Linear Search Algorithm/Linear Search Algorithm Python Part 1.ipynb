{
 "cells": [
  {
   "cell_type": "markdown",
   "metadata": {},
   "source": [
    "### Linear Search Algorithm Python (Part-1)\n",
    "- Array/List must be sorted\n",
    "\n",
    "Algorithm Task\n",
    "\n",
    "- Start from the leftmost element of arr and one by one compare x with each element of arr\n",
    "- If x matches with an element, return the index.\n",
    "- If x doesn’t match with any of the elements, return -1."
   ]
  },
  {
   "cell_type": "code",
   "execution_count": 59,
   "metadata": {},
   "outputs": [],
   "source": [
    "lst = [0,1,4,5,6,9,10,12,15,26,37,38,49,50]\n",
    "k = 38 # key"
   ]
  },
  {
   "cell_type": "code",
   "execution_count": 60,
   "metadata": {},
   "outputs": [
    {
     "name": "stdout",
     "output_type": "stream",
     "text": [
      "14\n",
      "11\n"
     ]
    }
   ],
   "source": [
    "print(len(lst))\n",
    "print(lst.index(k)) # index() method we will find the index of item"
   ]
  },
  {
   "cell_type": "code",
   "execution_count": 57,
   "metadata": {},
   "outputs": [
    {
     "name": "stdout",
     "output_type": "stream",
     "text": [
      "Search-Iteration-Unsuccesful\n",
      "Search-Iteration-Unsuccesful\n",
      "Search-Iteration-Unsuccesful\n",
      "Search-Iteration-Unsuccesful\n",
      "Search-Iteration-Unsuccesful\n",
      "Search-Iteration-Unsuccesful\n",
      "Search-Iteration-Unsuccesful\n",
      "Search-Iteration-Unsuccesful\n",
      "Search-Iteration-Unsuccesful\n",
      "Search-Iteration-Unsuccesful\n",
      "Search-Iteration-Unsuccesful\n",
      "11\n",
      "Search-Iteration-Unsuccesful\n",
      "Search-Iteration-Unsuccesful\n"
     ]
    }
   ],
   "source": [
    "for x in range(len(lst)):\n",
    "    if lst[x] == k:\n",
    "        print(lst.index(k))\n",
    "    else:\n",
    "        print(\"Search-Iteration-Unsuccesful\")"
   ]
  },
  {
   "cell_type": "code",
   "execution_count": 88,
   "metadata": {},
   "outputs": [],
   "source": [
    "def linear_search(L,x):\n",
    "    \"\"\" L will be the argument we pass ie. List in this case\n",
    "        x will be the value we want to search for\n",
    "        Output will return the index if x is found using algorithm\"\"\"\n",
    "    for i in range(len(L)): # range function (start,stop,step)\n",
    "        if L[i] == x:\n",
    "            print(\"Linear-Search-Algorithm-Succesful\")\n",
    "            return(L.index(x))\n",
    "    \n",
    "    else:\n",
    "        print(\"Linear-Search-Algorithim-Unsuccesful\")\n",
    "        return -1"
   ]
  },
  {
   "cell_type": "code",
   "execution_count": 89,
   "metadata": {},
   "outputs": [
    {
     "name": "stdout",
     "output_type": "stream",
     "text": [
      "Linear-Search-Algorithm-Succesful\n"
     ]
    },
    {
     "data": {
      "text/plain": [
       "4"
      ]
     },
     "execution_count": 89,
     "metadata": {},
     "output_type": "execute_result"
    }
   ],
   "source": [
    "linear_search(lst,6)"
   ]
  },
  {
   "cell_type": "code",
   "execution_count": null,
   "metadata": {},
   "outputs": [],
   "source": []
  }
 ],
 "metadata": {
  "kernelspec": {
   "display_name": "Python 3",
   "language": "python",
   "name": "python3"
  },
  "language_info": {
   "codemirror_mode": {
    "name": "ipython",
    "version": 3
   },
   "file_extension": ".py",
   "mimetype": "text/x-python",
   "name": "python",
   "nbconvert_exporter": "python",
   "pygments_lexer": "ipython3",
   "version": "3.8.3"
  }
 },
 "nbformat": 4,
 "nbformat_minor": 4
}
